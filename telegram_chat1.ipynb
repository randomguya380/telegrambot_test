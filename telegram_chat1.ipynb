{
 "cells": [
  {
   "cell_type": "code",
   "execution_count": 46,
   "id": "d2ff203a",
   "metadata": {},
   "outputs": [],
   "source": [
    "\n",
    "import requests\n",
    "from datetime import datetime, timedelta\n",
    "import time\n",
    "import pytz\n",
    "from os import environ\n",
    "\n",
    "time_interval = 20 # (in seconds) Specify the frequency of code execution\n",
    "PINCODE = \"570026\"\n",
    "msg = \"Blank\"\n",
    "tele_auth_token = \"6365846150:AAHhDMqx6bVwVeOHl_IIOa1t-4l_tEBX9es\" # Authentication token provided by Telegram bot\n",
    "tel_group_id = \"-4106448114\"     # Telegram group name\n",
    "IST = pytz.timezone('Asia/Kolkata')        # Indian Standard Time - Timezone\n",
    "slot_found =  False                        # Intial slot found status\n",
    "header = {'User-Agent': 'Chrome/84.0.4147.105 Safari/537.36'}\n",
    "\n",
    "\n",
    "def update_timestamp_send_Request(PINCODE):\n",
    "    raw_TS = datetime.now(IST) + timedelta(days=1)      # Tomorrows date\n",
    "    tomorrow_date = raw_TS.strftime(\"%d-%m-%Y\")         # Formatted Tomorrow's date\n",
    "    today_date = datetime.now(IST).strftime(\"%d-%m-%Y\") #Current Date\n",
    "    curr_time = (datetime.now().strftime(\"%H:%M:%S\"))   #Current time\n",
    "    request_link = f\"https://cdn-api.co-vin.in/api/v2/appointment/sessions/public/calendarByPin?pincode={PINCODE}&date={tomorrow_date}\"\n",
    "    response = requests.get(request_link, headers = header)\n",
    "    raw_JSON = response.json()\n",
    "    return raw_JSON, today_date, curr_time\n",
    "def get_availability_45(age = 45):\n",
    "    raw_JSON, today_date, curr_time = update_timestamp_send_Request(PINCODE)\n",
    "    for cent in raw_JSON['centers']:\n",
    "        for sess in cent[\"sessions\"]:\n",
    "            sess_date = sess['date']\n",
    "            if sess[\"min_age_limit\"] == age and sess[\"available_capacity\"] > 0:\n",
    "                slot_found =  True\n",
    "                msg = f\"\"\"For age 45+ [Vaccine Available] at {PINCODE} on {sess_date}\\n\\tCenter : {cent[\"name\"]}\\n\\tVaccine: {sess[\"vaccine\"]}\\n\\tDose_1: {sess[\"available_capacity_dose1\"]}\\n\\tDose_2: {sess[\"available_capacity_dose2\"]}\"\"\"\n",
    "                print('hello')\n",
    "                send_msg_on_telegram(msg)\n",
    "                print (f\"INFO:[{curr_time}] Vaccine Found for 45+ at {PINCODE}\")\n",
    "    else:\n",
    "        slot_found =  False\n",
    "        \n",
    "        print (f\"INFO: [{today_date}-{curr_time}] Vaccine NOT-Found for 45+ at {PINCODE}\")\n",
    "def get_availability_18(age = 18):\n",
    "    raw_JSON, today_date, curr_time = update_timestamp_send_Request(PINCODE)\n",
    "    for cent in raw_JSON['centers']:\n",
    "        for sess in cent[\"sessions\"]:\n",
    "            sess_date = sess['date']\n",
    "            if sess[\"min_age_limit\"] == age and sess[\"available_capacity\"] > 0:\n",
    "                slot_found =  True\n",
    "                msg = f\"\"\"For age 18+ [Vaccine Available] at {PINCODE} on {sess_date}\\n\\tCenter : {cent[\"name\"]}\\n\\tVaccine: {sess[\"vaccine\"]}\\n\\tDose_1: {sess[\"available_capacity_dose1\"]}\\n\\tDose_2: {sess[\"available_capacity_dose2\"]}\"\"\"\n",
    "                print('no')\n",
    "                send_msg_on_telegram(msg)\n",
    "                print (f\"INFO: [{curr_time}] Vaccine Found for 18+ at {PINCODE}\")\n",
    "    else:\n",
    "        slot_found =  False\n",
    "        print (f\"INFO: [{today_date}-{curr_time}] Vaccine NOT Found for 18+ at {PINCODE}\")\n",
    "    \n",
    "    \n",
    "def send_msg_on_telegram(msg):\n",
    "    telegram_api_url = f\"https://api.telegram.org/bot{tele_auth_token}/sendMessage?chat_id={tel_group_id}&text={msg}\"\n",
    "    print(telegram_api_url)\n",
    "    tel_resp = requests.get(telegram_api_url)\n",
    "\n",
    "    if tel_resp.status_code == 200:\n",
    "        print (\"Notification has been sent on Telegram\") \n",
    "    else:\n",
    "        print (\"Could not send Message\")\n"
   ]
  },
  {
   "cell_type": "code",
   "execution_count": 39,
   "id": "385fd5f7",
   "metadata": {},
   "outputs": [
    {
     "name": "stdout",
     "output_type": "stream",
     "text": [
      "https://api.telegram.org/bot6365846150:AAHhDMqx6bVwVeOHl_IIOa1t-4l_tEBX9es/sendMessage?chat_id=-4106448114&text=hello how are you\n",
      "Notification has been sent on Telegram\n"
     ]
    }
   ],
   "source": [
    "send_msg_on_telegram('hello how are you')"
   ]
  },
  {
   "cell_type": "code",
   "execution_count": null,
   "id": "7ba67c60",
   "metadata": {},
   "outputs": [],
   "source": []
  }
 ],
 "metadata": {
  "kernelspec": {
   "display_name": "Python 3 (ipykernel)",
   "language": "python",
   "name": "python3"
  },
  "language_info": {
   "codemirror_mode": {
    "name": "ipython",
    "version": 3
   },
   "file_extension": ".py",
   "mimetype": "text/x-python",
   "name": "python",
   "nbconvert_exporter": "python",
   "pygments_lexer": "ipython3",
   "version": "3.11.5"
  }
 },
 "nbformat": 4,
 "nbformat_minor": 5
}
